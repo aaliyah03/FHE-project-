{
 "cells": [
  {
   "cell_type": "code",
   "execution_count": 2,
   "metadata": {},
   "outputs": [],
   "source": [
    "import tweepy"
   ]
  },
  {
   "cell_type": "code",
   "execution_count": 3,
   "metadata": {},
   "outputs": [],
   "source": [
    "consumer_key = \"FQrLvT4yDzE5Twx8d03Rdpa1l\" \n",
    "#API key:FQrLvT4yDzE5Twx8d03Rdpa1l\n",
    "consumer_secret = \"3vA9zzgN9uWL451kZavLuIyibaZMJmRsLLKoJi2v8jPlchLY6Q\"\n",
    "#API secret key:3vA9zzgN9uWL451kZavLuIyibaZMJmRsLLKoJi2v8jPlchLY6Q\n",
    "access_key = \"1265914852058337280-60VissfwPugxu2n7rKyn7psHVgtj4i\"\n",
    "#access token: 1265914852058337280-60VissfwPugxu2n7rKyn7psHVgtj4i\n",
    "access_secret = \"t4UEpVd0m6YgZuDEn4xNuhw2uOLA6PZlrvw9XMury1rUB\"\n",
    "#access token secret: t4UEpVd0m6YgZuDEn4xNuhw2uOLA6PZlrvw9XMury1rUB"
   ]
  },
  {
   "cell_type": "code",
   "execution_count": 4,
   "metadata": {},
   "outputs": [
    {
     "name": "stdout",
     "output_type": "stream",
     "text": [
      "['RT @oh_opheliaa: Nobody gave me attention today life is sad', 'RT @existentialslut: the internet: makes people go viral for looking pretty \\nalso the internet : \"fuck you lol talentless hoe you\\'re only f…', 'RT @knowledgewhoree: I got over my social media addiction and procrastination tendencies now i just have to get un-sad before college start…', '@SgtRapperDuck attac 😭', 'RT @SgtRapperDuck: people can solve their own problems instead of begging for attention', 'RT @urlocalemohoe: HE SAID THE WAY MY BLUE EYES SHINED PUT THOSE GEORGIA STARS TO SHAME THAT NIGHT', 'RT @urlocalemohoe: I HATE THAT STUPID OLD PICKUP TRUCK YOU NEVER LET ME DRIVE YOURE A REDNECK HEARTBREAKER WHOS REALLY BAD AT LYING SO WATC…', \"last christmas in paris is giving me all the let's wear plaid skirts and read oscar wilde in a parisian cafe vibes and I'm here for it FUCk\", 'RT @taylorswift13: Yeah I showed up at your party...then made a thematic album chapter about it 😄 https://t.co/kW25zqtOqe https://t.co/1M6g…', 'RT @stfujiii: not this one dude telling me i look \"just okay\" without makeup. bltch my bare face looks better than u would ever look WITH m…', 'RT @unavailabelle: liberal and leftist men stop being misogynistic to problematic women challenge', 'RT @tournesolsix: therapy: expensive \\ntaylor swift saying GAÒRDEN in Betty (Live @ ACM awards):  free', 'RT @itsnotelice: What do you mean we are not friends?!!\\nI shared my @NotionHQ templates with you! 😟', 'I would be listening to all too well for the next 48 hours as a coping mechanism NO ONE TOUCH ME', 'RT @urlocalemohoe: YEAH I SHOWED UP AT YOUR PARTY WILL YOU HAVE ME WILL YOU LOVE ME WILL YOU KISS ME ON THE PORCH IN FRONT OF ALL YOUR STUP…', 'RT @masochist_city: aries are the hottest ppl, like not a single aries i hv seen whos ugly', 'RT @urlocalemohoe: i started crying because i didn’t get to attend the rep tour and i probably won’t get to attend a taylor concert ever in…', 'RT @sosadtoday: listen, it’s not my job to like me', \"tldr I'm back https://t.co/edZwFTfDM5\", 'so the only thing I did in august is say august sipped away like a bottle of wine and I got neither wine nor a cons… https://t.co/Aji3wpxNUy']\n"
     ]
    }
   ],
   "source": [
    "# Function to extract tweets \n",
    "def get_tweets(username): \n",
    "    # Authorization to consumer key and consumer secret \n",
    "        auth = tweepy.OAuthHandler(consumer_key, consumer_secret) \n",
    "  \n",
    "        # Access to user's access key and access secret \n",
    "        auth.set_access_token(access_key, access_secret) \n",
    "  \n",
    "        # Calling api \n",
    "        api = tweepy.API(auth) \n",
    "  \n",
    "        # 200 tweets to be extracted \n",
    "        number_of_tweets=200\n",
    "        tweets = api.user_timeline(screen_name=username) \n",
    "  \n",
    "        # Empty Array \n",
    "        tmp=[]  \n",
    "  \n",
    "        # create array of tweet information: username,  \n",
    "        # tweet id, date/time, text \n",
    "        tweets_for_csv = [tweet.text for tweet in tweets] # CSV file created  \n",
    "        for j in tweets_for_csv: \n",
    "  \n",
    "            # Appending tweets to the empty array tmp \n",
    "            tmp.append(j)  \n",
    "  \n",
    "        # Printing the tweets \n",
    "        print(tmp) \n",
    "        \n",
    "\n",
    "if __name__ == '__main__': \n",
    "    get_tweets(\"weedbiryani\")"
   ]
  },
  {
   "cell_type": "code",
   "execution_count": null,
   "metadata": {},
   "outputs": [],
   "source": []
  },
  {
   "cell_type": "code",
   "execution_count": null,
   "metadata": {},
   "outputs": [],
   "source": []
  }
 ],
 "metadata": {
  "kernelspec": {
   "display_name": "Python 3",
   "language": "python",
   "name": "python3"
  },
  "language_info": {
   "codemirror_mode": {
    "name": "ipython",
    "version": 3
   },
   "file_extension": ".py",
   "mimetype": "text/x-python",
   "name": "python",
   "nbconvert_exporter": "python",
   "pygments_lexer": "ipython3",
   "version": "3.6.5"
  }
 },
 "nbformat": 4,
 "nbformat_minor": 2
}
